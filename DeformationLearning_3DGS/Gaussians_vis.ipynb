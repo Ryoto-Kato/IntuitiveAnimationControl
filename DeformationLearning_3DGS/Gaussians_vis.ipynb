{
 "cells": [
  {
   "cell_type": "code",
   "execution_count": null,
   "metadata": {},
   "outputs": [],
   "source": [
    "import os, sys\n",
    "from scene.gaussian_model import GaussianProp\n",
    "import pyvista as pv\n",
    "pv.global_theme.trame.server_proxy_enabled = True\n",
    "pv.global_theme.trame.server_proxy_prefix = 'http://127.0.0.1:5000'"
   ]
  },
  {
   "cell_type": "markdown",
   "metadata": {},
   "source": [
    "# Visualization of Gaussians"
   ]
  },
  {
   "cell_type": "code",
   "execution_count": null,
   "metadata": {},
   "outputs": [],
   "source": [
    "path_to_3WI = os.path.join(os.getcwd(), os.pardir, \"3DSSL-WS23_IntuitiveAnimation\", \"\")\n",
    "sys.path.append(os.path.join(path_to_3WI, 'src'))\n",
    "from utils.pickel_io import load_from_memory, dump_pckl\n",
    "from utils.vis_tools import VisPointsAttributes"
   ]
  },
  {
   "cell_type": "code",
   "execution_count": null,
   "metadata": {},
   "outputs": [],
   "source": [
    "version = \"358554bd-cALLcam\"\n",
    "expression = \"E001_Neutral_Eyes_Open\"\n",
    "iteration = 20000"
   ]
  },
  {
   "cell_type": "code",
   "execution_count": null,
   "metadata": {},
   "outputs": [],
   "source": [
    "path_to_memory = os.path.join(os.getcwd(), \"output\", \"358554bd-cALLcam\", expression, \"point_cloud\", \"iteration_\"+str(iteration))\n",
    "print(path_to_memory)"
   ]
  },
  {
   "cell_type": "code",
   "execution_count": null,
   "metadata": {},
   "outputs": [],
   "source": [
    "gaussian_prop = load_from_memory(path_to_memory=path_to_memory, pickle_fname=\"gaussian_prop.pkl\")"
   ]
  },
  {
   "cell_type": "code",
   "execution_count": null,
   "metadata": {},
   "outputs": [],
   "source": [
    "gaussian_prop.xyz.shape"
   ]
  },
  {
   "cell_type": "code",
   "execution_count": null,
   "metadata": {},
   "outputs": [],
   "source": [
    "gaussian_prop.f_dc.shape"
   ]
  },
  {
   "cell_type": "code",
   "execution_count": null,
   "metadata": {},
   "outputs": [],
   "source": [
    "pv.start_xvfb()\n",
    "p = pv.Plotter()\n",
    "# p.camera_position = [(46.587771748532454, -110.97787747048358, 187.63653999519397),\n",
    "#                      (-1.23187255859375, 29.05982208251953, 1069.2713623046875),\n",
    "#                      (0.003916643970848481, -0.987577042560248, 0.15708674325976588)]"
   ]
  },
  {
   "cell_type": "code",
   "execution_count": null,
   "metadata": {},
   "outputs": [],
   "source": [
    "_ = p.add_points(\n",
    "    gaussian_prop.xyz,\n",
    "    vertex_color = gaussian_prop.f_dc,\n",
    "    render_points_as_spheres=True,\n",
    "    point_size=10,\n",
    ")\n",
    "p.show()"
   ]
  }
 ],
 "metadata": {
  "kernelspec": {
   "display_name": "gaussian_splatting",
   "language": "python",
   "name": "python3"
  },
  "language_info": {
   "codemirror_mode": {
    "name": "ipython",
    "version": 3
   },
   "file_extension": ".py",
   "mimetype": "text/x-python",
   "name": "python",
   "nbconvert_exporter": "python",
   "pygments_lexer": "ipython3",
   "version": "3.7.13"
  }
 },
 "nbformat": 4,
 "nbformat_minor": 2
}
