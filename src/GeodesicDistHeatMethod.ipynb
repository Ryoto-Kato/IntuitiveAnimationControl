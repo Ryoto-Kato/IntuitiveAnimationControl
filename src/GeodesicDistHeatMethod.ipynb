{
 "cells": [
  {
   "cell_type": "code",
   "execution_count": null,
   "metadata": {},
   "outputs": [],
   "source": [
    "from utils.OBJ_helper import OBJ\n",
    "import os\n",
    "import numpy as np\n",
    "import trimesh\n",
    "from utils.pickel_io import load_from_memory\n",
    "from utils.Blendshape import ZeroMeanDefMatrix\n",
    "from scipy import sparse\n",
    "from scipy import linalg\n",
    "from scipy.sparse.linalg import splu\n",
    "from utils.Geodesic_dist import compute_topological_laplacian\n",
    "from utils.vis_tools import VisPointsAttributes\n",
    "save_path = \"../dataset/multiface/tracked_mesh\""
   ]
  },
  {
   "cell_type": "markdown",
   "metadata": {},
   "source": [
    "# Heat method to compute distance function $\\phi$\n",
    "- Compute Laplacian\n",
    "- Algorithm (heat method)\n",
    "1. Integrate the heat flow\n",
    "$$(A-tLc)u_t = u_0$$\n",
    "2. Evaluate the vector field\n",
    "$$\\Chi = - \\frac{\\nabla u}{|\\nabla u|} $$\n",
    "3. Solve the Poisson equation\n",
    "$$\\Delta \\phi = \\nabla \\Chi$$"
   ]
  },
  {
   "cell_type": "markdown",
   "metadata": {},
   "source": [
    "## load obj file using original loader"
   ]
  },
  {
   "cell_type": "code",
   "execution_count": null,
   "metadata": {},
   "outputs": [],
   "source": [
    "# # Get neutral face vertices and neutral face triangle list\n",
    "# target_obj = OBJ(filename = os.path.join(save_path, \"sample.obj\"))\n",
    "\n",
    "# list_vertices = target_obj.vertices\n",
    "# list_triangles = target_obj.faces\n",
    "\n",
    "# verts = np.asarray(list_vertices)\n",
    "\n",
    "# CENTER = 3567\n",
    "\n",
    "# tris = []\n",
    "# for triangle in list_triangles:\n",
    "#     # 0: triangle index list\n",
    "#     # 1: normals\n",
    "#     # 2: texture coordinate\n",
    "#     # 3: material configuration\n",
    "#     tris.append(triangle[0])\n",
    "# tris = np.asarray(tris)"
   ]
  },
  {
   "cell_type": "markdown",
   "metadata": {},
   "source": [
    "## load obj file using trimesh loader"
   ]
  },
  {
   "cell_type": "code",
   "execution_count": null,
   "metadata": {},
   "outputs": [],
   "source": [
    "mesh = trimesh.load(os.path.join(save_path, \"sample.obj\"), force='mesh')\n",
    "list_vertices = mesh.vertices\n",
    "list_triangles = mesh.faces\n",
    "\n",
    "verts = np.asarray(list_vertices)\n",
    "tris = np.asarray(list_triangles)\n",
    "\n",
    "CENTER = 2658"
   ]
  },
  {
   "cell_type": "code",
   "execution_count": null,
   "metadata": {},
   "outputs": [],
   "source": [
    "# verts: (N, 3) array (float)\n",
    "# tris: (m, 3) array (int): indices into the verts array\n",
    "print(tris.shape)\n",
    "print(verts.shape)"
   ]
  },
  {
   "cell_type": "markdown",
   "metadata": {},
   "source": [
    "# Triangle list conversion\n",
    "- index should be start from 0 to #num_vertices"
   ]
  },
  {
   "cell_type": "code",
   "execution_count": null,
   "metadata": {},
   "outputs": [],
   "source": [
    "if tris.min() > 0:\n",
    "    for triangle in tris:\n",
    "        for i in range(3):\n",
    "            # print(triangle)\n",
    "            triangle[i] = triangle[i] - int(1)\n",
    "            "
   ]
  },
  {
   "cell_type": "markdown",
   "metadata": {},
   "source": [
    "Test vector normalization and func for getting norm of vector"
   ]
  },
  {
   "cell_type": "code",
   "execution_count": null,
   "metadata": {},
   "outputs": [],
   "source": [
    "from utils.common_utils import vecnorm, normalized\n",
    "dummy = np.array([2, 1, 3])\n",
    "dummy_norm = vecnorm(dummy)\n",
    "normalized_dummy = normalized(dummy)\n",
    "print(dummy_norm)\n",
    "print(normalized_dummy)"
   ]
  },
  {
   "cell_type": "markdown",
   "metadata": {},
   "source": [
    "# Compute mesh laplacian\n",
    "- To compute descritize laplasian, we need to somehow compute weights to obtain a laplacian at a vertex\n",
    "- Since there are desired properties for discrete laplacian, there are several forms of computation of mesh laplacian\n",
    "- The one which fulfills all desired properties is __convex weights__\n",
    "$$w_{ij} = \\frac{tan(\\frac{\\theta_{ij}^1}{2}) + tan(\\frac{\\theta_{ij}^2}{2})}{2}$$\n",
    "- The one which fulfills almost all desired properties is __cotangent weight__\n",
    "$$w_{ij} = \\frac{1}{2}(cot(\\alpha_{ij}) + cot(\\beta_{ij}))$$"
   ]
  },
  {
   "cell_type": "code",
   "execution_count": null,
   "metadata": {},
   "outputs": [],
   "source": [
    "N = len(verts)\n",
    "print(f\"Number of vertecies: {N}\")"
   ]
  },
  {
   "cell_type": "code",
   "execution_count": null,
   "metadata": {},
   "outputs": [],
   "source": [
    "W_ij = np.empty(0, np.double)\n",
    "I = np.empty(0, np.int32)\n",
    "J = np.empty(0, np.int32)"
   ]
  },
  {
   "cell_type": "code",
   "execution_count": null,
   "metadata": {},
   "outputs": [],
   "source": [
    "for i1, i2, i3 in [(0, 1, 2), (1, 2, 0), (2, 0, 1)]:\n",
    "    vi1 = tris[:, i1]\n",
    "    vi2 = tris[:, i2]\n",
    "    vi3 = tris[:, i3]\n",
    "    u = verts[vi2] - verts[vi1]\n",
    "    v = verts[vi3] - verts[vi1]\n",
    "    cotan = (u * v).sum(axis = 1) / vecnorm(np.cross(u, v))\n",
    "    W_ij = np.append(W_ij, 0.5 * cotan)\n",
    "    I = np.append(I, vi2)\n",
    "    J = np.append(J, vi3)\n",
    "    W_ij = np.append(W_ij, 0.5 * cotan)\n",
    "    I = np.append(I, vi3)\n",
    "    J = np.append(J, vi2)"
   ]
  },
  {
   "cell_type": "code",
   "execution_count": null,
   "metadata": {},
   "outputs": [],
   "source": [
    "print(f\"num of indecies: {len(vi1)}\")\n",
    "print(f\"num of indecies: {len(vi2)}\")\n",
    "print(f\"num of indecies: {len(vi3)}\")"
   ]
  },
  {
   "cell_type": "code",
   "execution_count": null,
   "metadata": {},
   "outputs": [],
   "source": [
    "print(max(vi1))\n",
    "print(max(vi2))\n",
    "print(max(vi3))"
   ]
  },
  {
   "cell_type": "code",
   "execution_count": null,
   "metadata": {},
   "outputs": [],
   "source": [
    "type(verts)\n",
    "print(verts.shape)\n",
    "print(tris.shape)"
   ]
  },
  {
   "cell_type": "markdown",
   "metadata": {},
   "source": [
    "# make sparse matrix for convex weight\n",
    "- N = num_verts\n",
    "- T = num_faces \n",
    "- W_ij = [Tx6,] (T x 6)\n",
    "    - Each element has cotanjent at the angle which opposite to the i---j\n",
    "  \n",
    "                 -\n",
    "                b_ij\n",
    "              -     -\n",
    "            i- - - - -j\n",
    "              -     -\n",
    "                a_ij\n",
    "                 -\n",
    "  \n",
    "- I = [Tx6] index list for row\n",
    "- J = [Tx6] index list for column\n",
    "- L = shape[N, N]"
   ]
  },
  {
   "cell_type": "code",
   "execution_count": null,
   "metadata": {},
   "outputs": [],
   "source": [
    "# Create a sparse matrix\n",
    "L = sparse.csr_matrix((W_ij, (I, J)), shape = (N, N))\n"
   ]
  },
  {
   "cell_type": "code",
   "execution_count": null,
   "metadata": {},
   "outputs": [],
   "source": [
    "# TODO: why it is necessary\n",
    "L = L - sparse.spdiags(L * np.ones(N), 0, N, N)\n",
    "\n",
    "\n",
    "sum_zero = 0\n",
    "L = L.toarray()\n",
    "print(L.shape)\n",
    "\n",
    "for i in range(L.shape[1]):\n",
    "    if L[i][i] == 0:\n",
    "    #     print(i)\n",
    "        L[i][i] = -1\n",
    "\n",
    "print(sum_zero)\n",
    "\n",
    "# convert matrix L into Compressed Sparse Row format\n",
    "L = sparse.csr_matrix(L)"
   ]
  },
  {
   "cell_type": "markdown",
   "metadata": {},
   "source": [
    "# Creat a area matrix\n",
    "- Triangle area can be computed by cross product of two vectors\n",
    "$$u \\times v = ||u||||v||sin(\\theta)$$\n",
    "$$\\text{area}_i = \\frac{1}{2}||u \\times v||$$"
   ]
  },
  {
   "cell_type": "code",
   "execution_count": null,
   "metadata": {},
   "outputs": [],
   "source": [
    "# triangle area matrix\n",
    "# edges\n",
    "e1 = verts[tris[:, 1]] - verts[tris[:, 0]]\n",
    "e2 = verts[tris[:, 2]] - verts[tris[:, 0]]\n",
    "# compute normal at each triangle\n",
    "n = np.cross(e1, e2)\n",
    "# triangle area can be computed by \n",
    "triangle_area = .5 * vecnorm(n)"
   ]
  },
  {
   "cell_type": "code",
   "execution_count": null,
   "metadata": {},
   "outputs": [],
   "source": [
    "# compute per-vertex area\n",
    "vertex_area = np.ones(len(verts))\n",
    "# triangle area\n",
    "ta3 = triangle_area / 3\n",
    "# construct vertex area matrix VA\n",
    "for i in range(tris.shape[1]): # 0, 1, 2\n",
    "    # count the number of occurence of index\n",
    "    bc = np.bincount(tris[:, i].astype(int), ta3)\n",
    "    print(bc.shape)\n",
    "    vertex_area += bc\n",
    "    print(vertex_area)\n",
    "\n",
    "# Diagonal matrix\n",
    "# diagonal entries are (#triangles)*1/3 of triangle area\n",
    "# #triangles = the number of triangles which consists of the vertex i\n",
    "\n",
    "print(vertex_area.shape)\n",
    "VA = sparse.spdiags(vertex_area, 0, len(verts), len(verts))\n",
    "print(VA.toarray())"
   ]
  },
  {
   "cell_type": "markdown",
   "metadata": {},
   "source": [
    "Check if the matrix A is invertible"
   ]
  },
  {
   "cell_type": "code",
   "execution_count": null,
   "metadata": {},
   "outputs": [],
   "source": [
    "# print(linalg.det(VA.toarray()))"
   ]
  },
  {
   "cell_type": "markdown",
   "metadata": {},
   "source": [
    "# compute Geodesic distance"
   ]
  },
  {
   "cell_type": "markdown",
   "metadata": {},
   "source": [
    "Precomputation"
   ]
  },
  {
   "cell_type": "code",
   "execution_count": null,
   "metadata": {},
   "outputs": [],
   "source": [
    "# compute edges\n",
    "e01 = verts[tris[:, 1]] - verts[tris[:, 0]]\n",
    "e12 = verts[tris[:, 2]] - verts[tris[:, 1]]\n",
    "e20 = verts[tris[:, 0]] - verts[tris[:, 2]]\n",
    "\n",
    "# normalized edges\n",
    "Ne01 = normalized(e01)\n",
    "Ne12 = normalized(e12)\n",
    "Ne20 = normalized(e20)\n",
    "\n",
    "# triangle area\n",
    "_triangle_area = 0.5 * vecnorm(np.cross(e01, e12))\n",
    "\n",
    "unit_normal = normalized(np.cross(Ne01,Ne12))\n",
    "\n",
    "_unit_normal_cross_e01 = np.cross(unit_normal, e01)\n",
    "_unit_normal_cross_e12 = np.cross(unit_normal, e12)\n",
    "_unit_normal_cross_e20 = np.cross(unit_normal, e20)"
   ]
  },
  {
   "cell_type": "code",
   "execution_count": null,
   "metadata": {},
   "outputs": [],
   "source": [
    "# parameters for heat method\n",
    "h = np.mean([vecnorm(e01), vecnorm(e12), vecnorm(e20)])\n",
    "m = 1e2\n",
    "t = m * h ** 2"
   ]
  },
  {
   "cell_type": "markdown",
   "metadata": {},
   "source": [
    "# Heat method\n",
    "- step 1: compute heat at time t $u_t$\n",
    "    - Heat flow can be obtained by solving the symmetric positive-definite system\n",
    "\n",
    "$$(A-tLc)u_t = u_0$$\n",
    "$$\\text{where } u_0 = \\begin{cases} 1 & \\text{if $v_i \\in \\gamma$ (heat source)} \\\\\n",
    "0 & \\text{otherwise} \\end{cases}$$"
   ]
  },
  {
   "cell_type": "code",
   "execution_count": null,
   "metadata": {},
   "outputs": [],
   "source": [
    "u_0 = np.zeros_like(verts)\n",
    "print(u_0.shape)"
   ]
  },
  {
   "cell_type": "markdown",
   "metadata": {},
   "source": [
    "Assign heat to a vertex to the top of nose (#3567)"
   ]
  },
  {
   "cell_type": "code",
   "execution_count": null,
   "metadata": {},
   "outputs": [],
   "source": [
    "u_0[CENTER] = 1 # Nose"
   ]
  },
  {
   "cell_type": "markdown",
   "metadata": {},
   "source": [
    "Solve linear equation via LU decomposition\n",
    "$$Ax = b$$\n",
    "$$PA = LU \\text{ where $P$ is permutation matrix}$$\n",
    "$$Ly = Pb$$\n",
    "$$Ux = y$$\n"
   ]
  },
  {
   "cell_type": "markdown",
   "metadata": {},
   "source": [
    "# Solve linear system\n",
    "- Since some diagonal entries in L and A are zero, matrix L and A are singular\n",
    "- To solve this linear system, we need to compute pseudo inverse\n",
    "$$B = (A-tLc)$$\n",
    "$$Bu_t = u_0$$\n",
    "\n",
    "- Solve by LU decomposition\n",
    "$$Ly = u_0$$\n",
    "$$Uu_t = y$$"
   ]
  },
  {
   "cell_type": "code",
   "execution_count": null,
   "metadata": {},
   "outputs": [],
   "source": [
    "Lc = L\n",
    "A = VA\n",
    "B = (A-t*Lc)"
   ]
  },
  {
   "cell_type": "markdown",
   "metadata": {},
   "source": [
    "# LU decomposition\n",
    "- B should be invertible\n",
    "- Such a decomposition is often useful for solving many simultaneous equations where the left-hand side does not change but the right-hand side does"
   ]
  },
  {
   "cell_type": "code",
   "execution_count": null,
   "metadata": {},
   "outputs": [],
   "source": [
    "factored_AtLc = splu(B.tocsc())\n",
    "u_t = factored_AtLc.solve(u_0)"
   ]
  },
  {
   "cell_type": "code",
   "execution_count": null,
   "metadata": {},
   "outputs": [],
   "source": [
    "VisPointsAttributes(points=verts, attributes=u_t)"
   ]
  },
  {
   "cell_type": "markdown",
   "metadata": {},
   "source": [
    "# Heat method step2: Compute gradient field $\\Chi$"
   ]
  },
  {
   "cell_type": "code",
   "execution_count": null,
   "metadata": {},
   "outputs": [],
   "source": [
    "grad_u = (1 / (2 * _triangle_area)[:, None]) * (\n",
    "    _unit_normal_cross_e01 * u_t[tris[:, 2]]\n",
    "    + _unit_normal_cross_e12 * u_t[tris[:, 0]]\n",
    "    + _unit_normal_cross_e20 * u_t[tris[:, 1]]\n",
    ")\n",
    "\n",
    "X = -grad_u / vecnorm(grad_u)[:, None]"
   ]
  },
  {
   "cell_type": "markdown",
   "metadata": {},
   "source": [
    "# Heat method step3: Solve Poisson Equation"
   ]
  },
  {
   "cell_type": "code",
   "execution_count": null,
   "metadata": {},
   "outputs": [],
   "source": [
    "div_Xs = np.zeros(N)\n",
    "for i1, i2, i3 in [(0, 1, 2), (1, 2, 0), (2, 0, 1)]:\n",
    "    vi1, vi2, vi3 = tris[:, i1], tris[:, i2], tris[:, i3]\n",
    "    e1 = verts[vi2] - verts[vi1]\n",
    "    e2 = verts[vi3] - verts[vi1]\n",
    "    e_oop = verts[vi3] - verts[vi2]\n",
    "    cot1 = 1/np.tan(np.arccos((normalized(-e2) * normalized(-e_oop)).sum(axis = 1))) #e2_norm^T*e_oop = cos(theta)\n",
    "    cot2 = 1/np.tan(np.arccos((normalized(-e1) * normalized(e_oop)).sum(axis = 1)))\n",
    "    div_Xs += np.bincount(vi1.astype(int), 0.5 * (cot1*(e1*X).sum(axis = 1) + cot2 * (e2*X).sum(axis = 1)), minlength = N)"
   ]
  },
  {
   "cell_type": "code",
   "execution_count": null,
   "metadata": {},
   "outputs": [],
   "source": [
    "VisPointsAttributes(verts, div_Xs)"
   ]
  },
  {
   "cell_type": "markdown",
   "metadata": {},
   "source": [
    "# Solve Poisson equation"
   ]
  },
  {
   "cell_type": "code",
   "execution_count": null,
   "metadata": {},
   "outputs": [],
   "source": [
    "factored_Lc = splu(Lc.tocsc())\n",
    "phi = factored_Lc.solve(div_Xs)\n",
    "phi -= phi.min()"
   ]
  },
  {
   "cell_type": "code",
   "execution_count": null,
   "metadata": {},
   "outputs": [],
   "source": [
    "VisPointsAttributes(verts, phi)"
   ]
  },
  {
   "cell_type": "markdown",
   "metadata": {},
   "source": []
  }
 ],
 "metadata": {
  "kernelspec": {
   "display_name": "Python 3 (ipykernel)",
   "language": "python",
   "name": "python3"
  },
  "language_info": {
   "codemirror_mode": {
    "name": "ipython",
    "version": 3
   },
   "file_extension": ".py",
   "mimetype": "text/x-python",
   "name": "python",
   "nbconvert_exporter": "python",
   "pygments_lexer": "ipython3",
   "version": "3.10.13"
  }
 },
 "nbformat": 4,
 "nbformat_minor": 2
}
