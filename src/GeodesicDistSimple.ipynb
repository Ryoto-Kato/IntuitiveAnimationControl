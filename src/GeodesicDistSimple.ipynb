{
 "cells": [
  {
   "cell_type": "markdown",
   "metadata": {},
   "source": [
    "# GeodesicDistSimple (zigzag)"
   ]
  },
  {
   "cell_type": "code",
   "execution_count": null,
   "metadata": {},
   "outputs": [],
   "source": [
    "import trimesh\n",
    "import os\n",
    "from utils.OBJ_helper import OBJ\n",
    "save_path = \"../dataset/multiface/tracked_mesh\""
   ]
  },
  {
   "cell_type": "markdown",
   "metadata": {},
   "source": [
    "## Load mesh using trimesh\n",
    "- For mesh consisntency, especially completeness of triangle mesh, we need to load mesh using trimesh to remesh"
   ]
  },
  {
   "cell_type": "code",
   "execution_count": null,
   "metadata": {},
   "outputs": [],
   "source": [
    "mesh = trimesh.load(os.path.join(save_path, \"sample.obj\"), force='mesh')"
   ]
  },
  {
   "cell_type": "code",
   "execution_count": null,
   "metadata": {},
   "outputs": [],
   "source": [
    "# # to export mesh as .obj file without color attribute, you need to switch out the mesh.visual for empty ColorVisuals()\n",
    "# mesh.visual = trimesh.visual.ColorVisuals()\n",
    "# mesh.export(os.path.join(save_path, \"test_remesh_trimesh_sample.obj\"))"
   ]
  },
  {
   "cell_type": "markdown",
   "metadata": {},
   "source": [
    "# Compute geodesic distance tracing shortest path\n",
    "- Given a mesh and two vertex indices find the shortest path between the two vertices while only traveling along edges of the mesh using a distance-weghted graph search"
   ]
  },
  {
   "cell_type": "code",
   "execution_count": null,
   "metadata": {},
   "outputs": [],
   "source": [
    "import numpy as np\n",
    "import networkx as nx"
   ]
  },
  {
   "cell_type": "code",
   "execution_count": null,
   "metadata": {},
   "outputs": [],
   "source": [
    "# edges without duplication\n",
    "edges = mesh.edges_unique"
   ]
  },
  {
   "cell_type": "code",
   "execution_count": null,
   "metadata": {},
   "outputs": [],
   "source": [
    "print(edges)\n",
    "print(type(edges))\n",
    "print((edges).min())"
   ]
  },
  {
   "cell_type": "code",
   "execution_count": null,
   "metadata": {},
   "outputs": [],
   "source": [
    "# the actual length of each unique edge (L2-norm)\n",
    "length = mesh.edges_unique_length"
   ]
  },
  {
   "cell_type": "code",
   "execution_count": null,
   "metadata": {},
   "outputs": [],
   "source": [
    "print(length)"
   ]
  },
  {
   "cell_type": "markdown",
   "metadata": {},
   "source": [
    "Create a graph to compute shortest path by dijkstra's algorithm"
   ]
  },
  {
   "cell_type": "code",
   "execution_count": null,
   "metadata": {},
   "outputs": [],
   "source": [
    "# create the graph with edge attributes for length\n",
    "g = nx.Graph() #instantiate graph \n",
    "for edge, L in zip(edges, length):\n",
    "    g.add_edge(*edge, length = L)"
   ]
  },
  {
   "cell_type": "markdown",
   "metadata": {},
   "source": [
    "Compute shortest path and its distance from center to all other vertices respectively"
   ]
  },
  {
   "cell_type": "code",
   "execution_count": null,
   "metadata": {},
   "outputs": [],
   "source": [
    "pathes = []\n",
    "distances = []\n",
    "center = 2658\n",
    "\n",
    "for i in range(len(mesh.vertices)):\n",
    "    # path = nx.shortest_path(g, source=center, target=i, weight = 'length')\n",
    "    dist = nx.shortest_path_length(g, source=center, target=i, weight= 'length')\n",
    "    # pathes.append(path)\n",
    "    distances.append(dist)"
   ]
  },
  {
   "cell_type": "code",
   "execution_count": null,
   "metadata": {},
   "outputs": [],
   "source": [
    "# print(len(pathes))\n",
    "print(len(distances))"
   ]
  },
  {
   "cell_type": "markdown",
   "metadata": {},
   "source": [
    "## Result visualization"
   ]
  },
  {
   "cell_type": "code",
   "execution_count": null,
   "metadata": {},
   "outputs": [],
   "source": [
    "from utils.vis_tools import VisPointsAttributes"
   ]
  },
  {
   "cell_type": "code",
   "execution_count": null,
   "metadata": {},
   "outputs": [],
   "source": [
    "VisPointsAttributes(mesh.vertices, distances)"
   ]
  }
 ],
 "metadata": {
  "kernelspec": {
   "display_name": "3dsrf",
   "language": "python",
   "name": "python3"
  },
  "language_info": {
   "codemirror_mode": {
    "name": "ipython",
    "version": 3
   },
   "file_extension": ".py",
   "mimetype": "text/x-python",
   "name": "python",
   "nbconvert_exporter": "python",
   "pygments_lexer": "ipython3",
   "version": "3.10.13"
  }
 },
 "nbformat": 4,
 "nbformat_minor": 2
}
