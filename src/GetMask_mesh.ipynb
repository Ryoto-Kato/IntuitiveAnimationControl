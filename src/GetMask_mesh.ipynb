{
 "cells": [
  {
   "cell_type": "markdown",
   "metadata": {},
   "source": [
    "# Create a face mask\n",
    "- Since we found that our blendshapes so far were including the deformation (yellow region shown below) back of head, we need to somehow take into consideration only vertices which effectively creates facial expressions\n",
    "\n",
    "![blenshape_withBackOfheadDeformation](../images/Blendshape_withBackOfHeadDeformation.png)\n",
    "\n",
    "\n",
    "- In order to do that, we need to obtain a face mask (vertex id lists) which represents the corresponding face mask regions as below\n",
    "\n",
    "![face_mask_region](../images/Facemask_side01.png)\n",
    "\n"
   ]
  },
  {
   "cell_type": "markdown",
   "metadata": {},
   "source": [
    "# Method\n",
    "- We employ nearest neighboring search since it was hard to create a face mask which has isotropic distribution from the top of nose by selectinig vertices by a hand. (This approach requires additional setup to visualize mesh and interactive i/o)\n",
    "\n",
    "- In order to get a face mask which equally cover the face from the top of nose in all directions, we use nearest neighboring search with using KD-tree. By using KD-tree, we can efficienlty search nearest neighboring vertices of the certain point which given to the query\n",
    "\n",
    "# Tools\n",
    "- Scikit-learn KDTree"
   ]
  },
  {
   "cell_type": "markdown",
   "metadata": {},
   "source": [
    "## import packages and utils"
   ]
  },
  {
   "cell_type": "code",
   "execution_count": null,
   "metadata": {},
   "outputs": [],
   "source": [
    "import numpy as np\n",
    "import os\n",
    "from sklearn.neighbors import KDTree\n",
    "from utils.OBJ_helper import OBJ\n",
    "import trimesh\n",
    "\n",
    "data_type = \"3dgs\"\n",
    "# data_type = \"tracked_mesh\"\n",
    "\n",
    "# Gaussian splatting\n",
    "if data_type == \"3dgs\":\n",
    "    ply_name = \"sample_subd2_face\"\n",
    "    nearestNeighbors = 50000\n",
    "    # ply_name = \"sample_face\"\n",
    "    ply_fname = ply_name + \".ply\"\n",
    "    path_to_samples =  os.path.join(os.getcwd(), \"samples\", \"3dgs\")\n",
    "    path_to_mesh =os.path.join(path_to_samples, ply_fname)\n",
    "    save_path = path_to_samples\n",
    "    assert os.path.exists(path_to_mesh)\n",
    "elif data_type == \"tracked_mesh\":\n",
    "    # tracked mesh\n",
    "    obj_name = \"sample\"\n",
    "    nearestNeighbors = 3000\n",
    "    obj_fname = obj_name + \".obj\"\n",
    "    path_to_samples =  os.path.join(os.getcwd(), \"samples\")\n",
    "    path_to_mesh =os.path.join(path_to_samples, obj_fname)\n",
    "    save_path = path_to_samples\n",
    "    assert os.path.exists(path_to_mesh)\n"
   ]
  },
  {
   "cell_type": "markdown",
   "metadata": {},
   "source": [
    "set path to mesh which is given as a sample for the vertices selection and save_path"
   ]
  },
  {
   "cell_type": "code",
   "execution_count": null,
   "metadata": {},
   "outputs": [],
   "source": [
    "# # original mesh\n",
    "# mesh_loader = \"original\"\n",
    "# averageMesh_obj = OBJ(path_to_mesh, swapyz=False)\n",
    "# # Select the vertex which will feed to query of nearest neighboring search\n",
    "# # - we select the vertex which represents the top of nose\n",
    "# c_id =3567"
   ]
  },
  {
   "cell_type": "code",
   "execution_count": null,
   "metadata": {},
   "outputs": [],
   "source": [
    "# trimesh\n",
    "mesh_loader = \"trimesh\"\n",
    "averageMesh_obj = trimesh.load(path_to_mesh, force = 'mesh')\n",
    "# Select the vertex which will feed to query of nearest neighboring search\n",
    "# - we select the vertex which represents the top of nose\n",
    "c_id =2658"
   ]
  },
  {
   "cell_type": "code",
   "execution_count": null,
   "metadata": {},
   "outputs": [],
   "source": [
    "num_vertices = len(averageMesh_obj.vertices)\n",
    "len_col = num_vertices*3"
   ]
  },
  {
   "cell_type": "code",
   "execution_count": null,
   "metadata": {},
   "outputs": [],
   "source": [
    "array_X = np.array(averageMesh_obj.vertices)\n",
    "X = np.array(averageMesh_obj.vertices).reshape(len(averageMesh_obj.vertices), 3)\n",
    "print(X.shape)"
   ]
  },
  {
   "cell_type": "markdown",
   "metadata": {},
   "source": [
    "Perform KDTree nearest neighboring vertex search\n",
    "- ind contains the indices list of the selected regions from the top nose"
   ]
  },
  {
   "cell_type": "code",
   "execution_count": null,
   "metadata": {},
   "outputs": [],
   "source": [
    "tree = KDTree(X, leaf_size=100, metric='euclidean')\n",
    "dist, ind = tree.query(X[c_id:c_id+1], k = nearestNeighbors) # ind: indices of k closest neighbors"
   ]
  },
  {
   "cell_type": "markdown",
   "metadata": {},
   "source": [
    "Convert the array of index to the list"
   ]
  },
  {
   "cell_type": "code",
   "execution_count": null,
   "metadata": {},
   "outputs": [],
   "source": [
    "selected_vertices = []\n",
    "for id in ind:\n",
    "    selected_vertices.append(X[id])\n",
    "\n",
    "selected_vertices = np.array(selected_vertices)\n",
    "selected_vertices = selected_vertices.squeeze()\n",
    "print(selected_vertices)\n",
    "\n",
    "vertices_list = []\n",
    "for x, y, z in selected_vertices:\n",
    "    vertices_list.append(x)\n",
    "    vertices_list.append(y)\n",
    "    vertices_list.append(z)\n",
    "\n",
    "vertices_list = np.array(vertices_list)\n",
    "print(vertices_list)\n"
   ]
  },
  {
   "cell_type": "markdown",
   "metadata": {},
   "source": [
    "write a obj file to visualize the pointclouds"
   ]
  },
  {
   "cell_type": "code",
   "execution_count": null,
   "metadata": {},
   "outputs": [],
   "source": [
    "if data_type == \"3dgs\":\n",
    "    OBJ.write_PointClouds(save_path = save_path, vertices = vertices_list, mesh_name = \"FaceMask_\" +ply_name+\"_\" + mesh_loader)\n",
    "elif data_type == \"tracked_mesh\":\n",
    "    OBJ.write_PointClouds(save_path = save_path, vertices = vertices_list, mesh_name = \"FaceMask_\" +obj_name+\"_\" + mesh_loader)"
   ]
  },
  {
   "cell_type": "markdown",
   "metadata": {},
   "source": [
    "list of the indices"
   ]
  },
  {
   "cell_type": "code",
   "execution_count": null,
   "metadata": {},
   "outputs": [],
   "source": [
    "list_facemask_ids = []\n",
    "for id in ind: # ind = 5000 nearest neighboring vertex ids of #3567\n",
    "    list_facemask_ids=id\n",
    "print(list_facemask_ids)"
   ]
  },
  {
   "cell_type": "markdown",
   "metadata": {},
   "source": [
    "Create a bit mask of the vertices"
   ]
  },
  {
   "cell_type": "code",
   "execution_count": null,
   "metadata": {},
   "outputs": [],
   "source": [
    "bit_mask = np.zeros(len_col, dtype = int)\n",
    "for id in list_facemask_ids:\n",
    "    bit_mask[3*id] = int(1)\n",
    "    bit_mask[3*id+1] = int(1)\n",
    "    bit_mask[3*id+2] = int(1)\n",
    "\n",
    "print(bit_mask)\n",
    "print(bit_mask.shape)"
   ]
  },
  {
   "cell_type": "code",
   "execution_count": null,
   "metadata": {},
   "outputs": [],
   "source": [
    "from utils.converter import vector2MatNx3\n",
    "matNx3_bitMask = vector2MatNx3(bit_mask, num_vertices)\n",
    "print(matNx3_bitMask.shape)"
   ]
  },
  {
   "cell_type": "markdown",
   "metadata": {},
   "source": [
    "Use dataclass to serialize the index list of the face mask"
   ]
  },
  {
   "cell_type": "code",
   "execution_count": null,
   "metadata": {},
   "outputs": [],
   "source": [
    "from dataclasses import dataclass\n",
    "from utils.Blendshape import FaceMask"
   ]
  },
  {
   "cell_type": "code",
   "execution_count": null,
   "metadata": {},
   "outputs": [],
   "source": [
    "facemask = FaceMask(center_id=c_id, list_ids=list_facemask_ids, bit_mask = matNx3_bitMask)"
   ]
  },
  {
   "cell_type": "code",
   "execution_count": null,
   "metadata": {},
   "outputs": [],
   "source": [
    "print(facemask.center_id)\n",
    "print(facemask.list_ids)"
   ]
  },
  {
   "cell_type": "code",
   "execution_count": null,
   "metadata": {},
   "outputs": [],
   "source": [
    "from datetime import datetime\n",
    "# get current date and year\n",
    "now = datetime.now()\n",
    "\n",
    "date = now.strftime(\"%d\") + now.strftime(\"%m\") + now.strftime(\"%Y\")\n",
    "print(date)\n",
    "time = now.strftime(\"%H_%M\")\n",
    "print(\"time:\", time)"
   ]
  },
  {
   "cell_type": "markdown",
   "metadata": {},
   "source": [
    "dump instance of FaceMask"
   ]
  },
  {
   "cell_type": "code",
   "execution_count": null,
   "metadata": {},
   "outputs": [],
   "source": [
    "from utils.pickel_io import dump_pckl, load_from_memory\n",
    "import os\n",
    "if data_type == \"tracked_mesh\":\n",
    "    pickel_fname = \"FaceMask_\"+obj_name+\"_\"+date+\"_\"+time+\"_\"+mesh_loader+\".pkl\"\n",
    "elif data_type == \"3dgs\":\n",
    "    pickel_fname = \"FaceMask_\"+ply_name+\"_\"+date+\"_\"+time+\"_\"+mesh_loader+\".pkl\"\n",
    "dump_pckl(data=facemask, save_root=save_path, pickel_fname=pickel_fname)"
   ]
  },
  {
   "cell_type": "markdown",
   "metadata": {},
   "source": [
    "load instance of FaceMask to check if we could store the data"
   ]
  },
  {
   "cell_type": "code",
   "execution_count": null,
   "metadata": {},
   "outputs": [],
   "source": [
    "load_from_memory(path_to_memory=save_path, pickle_fname=pickel_fname)"
   ]
  }
 ],
 "metadata": {
  "kernelspec": {
   "display_name": "3dsrf",
   "language": "python",
   "name": "python3"
  },
  "language_info": {
   "codemirror_mode": {
    "name": "ipython",
    "version": 3
   },
   "file_extension": ".py",
   "mimetype": "text/x-python",
   "name": "python",
   "nbconvert_exporter": "python",
   "pygments_lexer": "ipython3",
   "version": "3.10.13"
  }
 },
 "nbformat": 4,
 "nbformat_minor": 2
}
