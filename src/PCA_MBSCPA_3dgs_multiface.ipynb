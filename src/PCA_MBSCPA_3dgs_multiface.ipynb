{
 "cells": [
  {
   "cell_type": "code",
   "execution_count": null,
   "metadata": {},
   "outputs": [],
   "source": [
    "import h5py\n",
    "import os, sys\n",
    "import numpy as np\n",
    "import trimesh\n",
    "import pandas as pd\n",
    "import matplotlib.pyplot as plt\n",
    "from utils.Blendshape import DeformationComponents\n",
    "\n",
    "path_to_3dgs = os.path.join(os.getcwd(), os.pardir, os.pardir,\"gaussian-splatting\")\n",
    "path_to_output = os.path.join(path_to_3dgs, \"output\")\n",
    "assert os.path.exists(path_to_output)\n",
    "\n",
    "# session of id\n",
    "session = \"f336a291-bnotALLcam\"\n",
    "path_to_session = os.path.join(path_to_output, session)\n",
    "assert os.path.exists(path_to_session)"
   ]
  },
  {
   "cell_type": "markdown",
   "metadata": {},
   "source": [
    "# Deformation Learning via 3D Gaussian Splatting\n",
    "- Apply following methhods on the trained 3D Gaussians based on multiface dataset\n",
    "1. PCA\n",
    "2. MiniBatch Sparse PCA"
   ]
  },
  {
   "cell_type": "markdown",
   "metadata": {},
   "source": [
    "## Load 3D gaussian property"
   ]
  },
  {
   "cell_type": "code",
   "execution_count": null,
   "metadata": {},
   "outputs": [],
   "source": [
    "# name_hdf5 = \"f336a291-bnotALLcam_datamat_5509.hdf5\"\n",
    "name_hdf5 = \"f336a291-bnotALLcam_datamat_87652.hdf5\"\n",
    "f = h5py.File(os.path.join(path_to_session, name_hdf5), 'r')\n",
    "list(f.keys())"
   ]
  },
  {
   "cell_type": "markdown",
   "metadata": {},
   "source": [
    "## target attributes\n",
    "- xyz (center of Gaussians)\n",
    "- normal (normal of Gaussians)\n",
    "- rgb (color of Gaussians)\n",
    "- opacity (opacity of Gaussians)\n",
    "- scale (scale of Gaussians)\n",
    "- rotation (rotation of Gaussians)"
   ]
  },
  {
   "cell_type": "code",
   "execution_count": null,
   "metadata": {},
   "outputs": [],
   "source": [
    "target_attrib = \"rgb\""
   ]
  },
  {
   "cell_type": "code",
   "execution_count": null,
   "metadata": {},
   "outputs": [],
   "source": [
    "dataMat = f[target_attrib]\n",
    "print(dataMat.shape)\n",
    "average= np.mean(dataMat, axis = 0)\n",
    "print(average.shape)\n",
    "cent_X = dataMat - average\n",
    "centX_std = np.std(cent_X)\n",
    "print(cent_X.shape)"
   ]
  },
  {
   "cell_type": "code",
   "execution_count": null,
   "metadata": {},
   "outputs": [],
   "source": [
    "dataMat.shape"
   ]
  },
  {
   "cell_type": "markdown",
   "metadata": {},
   "source": [
    "## Load facemask"
   ]
  },
  {
   "cell_type": "code",
   "execution_count": null,
   "metadata": {},
   "outputs": [],
   "source": [
    "from utils.Blendshape import FaceMask\n",
    "from utils.pickel_io import dump_pckl, load_from_memory\n",
    "\n",
    "# set the name of pickel file\n",
    "mesh_loader = \"trimesh\"\n",
    "path_to_samples = os.path.join(path_to_3dgs, \"samples\")\n",
    "facemask_fname = \"FaceMask_sample_subd2_face_22012024_12_51_trimesh.pkl\"\n",
    "# facemask_fname = \"FaceMask_sample_face_22012024_13_25_trimesh.pkl\"\n",
    "\n",
    "facemask = load_from_memory(path_to_memory=path_to_samples, pickle_fname=facemask_fname)\n",
    "print(facemask.bit_mask.flatten()[None, :].shape)"
   ]
  },
  {
   "cell_type": "markdown",
   "metadata": {},
   "source": [
    "# create masked centralized datamatrix X"
   ]
  },
  {
   "cell_type": "code",
   "execution_count": null,
   "metadata": {},
   "outputs": [],
   "source": [
    "masked_cent_X = cent_X * facemask.bit_mask.flatten()[None, :]\n",
    "mesh = trimesh.load(os.path.join(path_to_samples, \"sample_face.ply\"), force = 'mesh')\n",
    "tris = np.asarray(mesh.faces)"
   ]
  },
  {
   "cell_type": "markdown",
   "metadata": {},
   "source": [
    "# Set the number of components"
   ]
  },
  {
   "cell_type": "code",
   "execution_count": null,
   "metadata": {},
   "outputs": [],
   "source": [
    "Ncompos = 50\n",
    "preScaleFactor = 1/centX_std\n",
    "N_cent_X = cent_X * preScaleFactor\n",
    "masked_N_cent_X = masked_cent_X * preScaleFactor"
   ]
  },
  {
   "cell_type": "code",
   "execution_count": null,
   "metadata": {},
   "outputs": [],
   "source": [
    "N_cent_X.shape"
   ]
  },
  {
   "cell_type": "markdown",
   "metadata": {},
   "source": [
    "#  1. PCA"
   ]
  },
  {
   "cell_type": "code",
   "execution_count": null,
   "metadata": {},
   "outputs": [],
   "source": [
    "from sklearn.decomposition import PCA\n",
    "D = masked_cent_X.shape[0]\n",
    "pca = PCA(D)\n",
    "pca.fit(N_cent_X.reshape(N_cent_X.shape[0], -1))"
   ]
  },
  {
   "cell_type": "code",
   "execution_count": null,
   "metadata": {},
   "outputs": [],
   "source": [
    "Gamma = pca.components_.reshape(D, -1, 3) #right-hand side matrix of eigenvalue decomposition\n",
    "Variance = pca.explained_variance_\n",
    "Stds = np.sqrt(Variance)\n",
    "Sigma = np.diag(pca.explained_variance_) #diagonal matrix which has eigenvectors in each diagonal entry\n",
    "MEAN =  average # neutral face mesh (vertex coodinates of neutral face)"
   ]
  },
  {
   "cell_type": "code",
   "execution_count": null,
   "metadata": {},
   "outputs": [],
   "source": [
    "masked_PCA_dc = Gamma * facemask.bit_mask[None, :]"
   ]
  },
  {
   "cell_type": "code",
   "execution_count": null,
   "metadata": {},
   "outputs": [],
   "source": [
    "PCA_gamma = Gamma\n",
    "PCA_variance = Variance"
   ]
  },
  {
   "cell_type": "code",
   "execution_count": null,
   "metadata": {},
   "outputs": [],
   "source": [
    "Gamma.shape"
   ]
  },
  {
   "cell_type": "code",
   "execution_count": null,
   "metadata": {},
   "outputs": [],
   "source": [
    "pca_RMSE = np.sqrt(((masked_N_cent_X.reshape(masked_N_cent_X.shape[0], -1) - np.dot(Sigma, (masked_PCA_dc).reshape(masked_PCA_dc.shape[0], -1)))**2).mean())"
   ]
  },
  {
   "cell_type": "code",
   "execution_count": null,
   "metadata": {},
   "outputs": [],
   "source": [
    "print(pca_RMSE)"
   ]
  },
  {
   "cell_type": "code",
   "execution_count": null,
   "metadata": {},
   "outputs": [],
   "source": [
    "pca_sparsity = np.sum(np.sqrt((masked_PCA_dc[:Ncompos, :]**2).sum(axis = 2)))"
   ]
  },
  {
   "cell_type": "code",
   "execution_count": null,
   "metadata": {},
   "outputs": [],
   "source": [
    "print(pca_sparsity)"
   ]
  },
  {
   "cell_type": "code",
   "execution_count": null,
   "metadata": {},
   "outputs": [],
   "source": [
    "pca_sparsity_level = np.mean(masked_PCA_dc==0)\n",
    "print(pca_sparsity_level)"
   ]
  },
  {
   "cell_type": "markdown",
   "metadata": {},
   "source": [
    "# visualize the flipped cumulative sum over obtained principal components\n",
    "- As the corresponding value (y-axis) becomes lager, the component has larger global effect\n",
    "\n",
    "$$\\text{global influence}_{std_i} = \\frac{std_i}{std_{max}}$$"
   ]
  },
  {
   "cell_type": "code",
   "execution_count": null,
   "metadata": {},
   "outputs": [],
   "source": [
    "import pandas as pd\n",
    "\n",
    "sum_std = Stds.max()\n",
    "print(sum_std)\n",
    "df_std = Stds/sum_std\n",
    "cumsum_std=df_std\n",
    "negative_cumsum_std = cumsum_std[:330]\n",
    "plt.plot(negative_cumsum_std)\n",
    "plt.ylabel(\"global influence of components\")\n",
    "plt.xlabel(\"No. of principal components\")\n",
    "# plt.xticks(np.arange(0, len(Stds)-1, 5))\n",
    "plt.show()"
   ]
  },
  {
   "cell_type": "markdown",
   "metadata": {},
   "source": [
    "# 2. MiniBatch SparcePCA"
   ]
  },
  {
   "cell_type": "code",
   "execution_count": null,
   "metadata": {},
   "outputs": [],
   "source": [
    "from sklearn.decomposition import MiniBatchSparsePCA\n",
    "mb_sparsePCA = MiniBatchSparsePCA(n_components=Ncompos, verbose=True)\n",
    "est_MBSPCA = mb_sparsePCA.fit(N_cent_X.reshape(N_cent_X.shape[0], -1))"
   ]
  },
  {
   "cell_type": "code",
   "execution_count": null,
   "metadata": {},
   "outputs": [],
   "source": [
    "C_mbspca = est_MBSPCA.components_.reshape(Ncompos, -1, 3) #right hand side V\n",
    "W_mbspca = est_MBSPCA.transform(N_cent_X.reshape(N_cent_X.shape[0], -1)) #left hand side U"
   ]
  },
  {
   "cell_type": "code",
   "execution_count": null,
   "metadata": {},
   "outputs": [],
   "source": [
    "masked_MBSPCA_dc = C_mbspca * facemask.bit_mask[None, :]"
   ]
  },
  {
   "cell_type": "code",
   "execution_count": null,
   "metadata": {},
   "outputs": [],
   "source": [
    "MBSPCA_C = C_mbspca\n",
    "MBSPCA_W = W_mbspca"
   ]
  },
  {
   "cell_type": "code",
   "execution_count": null,
   "metadata": {},
   "outputs": [],
   "source": [
    "MBSPCA_C.shape"
   ]
  },
  {
   "cell_type": "code",
   "execution_count": null,
   "metadata": {},
   "outputs": [],
   "source": [
    "mbspca_RMSE = np.sqrt(((masked_N_cent_X.reshape(masked_N_cent_X.shape[0], -1) - np.dot(W_mbspca, (masked_MBSPCA_dc).reshape(masked_MBSPCA_dc.shape[0], -1)))**2).mean())\n"
   ]
  },
  {
   "cell_type": "code",
   "execution_count": null,
   "metadata": {},
   "outputs": [],
   "source": [
    "print(mbspca_RMSE)"
   ]
  },
  {
   "cell_type": "code",
   "execution_count": null,
   "metadata": {},
   "outputs": [],
   "source": [
    "mbspca_sparsity = np.sum(np.sqrt((masked_MBSPCA_dc**2).sum(axis = 2)))"
   ]
  },
  {
   "cell_type": "code",
   "execution_count": null,
   "metadata": {},
   "outputs": [],
   "source": [
    "print(mbspca_sparsity)"
   ]
  },
  {
   "cell_type": "code",
   "execution_count": null,
   "metadata": {},
   "outputs": [],
   "source": [
    "mbspca_sparsity_level = np.mean(masked_MBSPCA_dc==0)\n",
    "print(mbspca_sparsity_level)"
   ]
  },
  {
   "cell_type": "markdown",
   "metadata": {},
   "source": [
    "# save deformation components"
   ]
  },
  {
   "cell_type": "code",
   "execution_count": null,
   "metadata": {},
   "outputs": [],
   "source": [
    "pca_hdf5 = session+\"_\"+target_attrib+\"_\"+\"PCA_dcs.hdf5\"\n",
    "PCA_deformationCompos = DeformationComponents(dataMat=dataMat, faceMask=facemask.bit_mask[None, :], MEAN = average, STD = centX_std, pcMat=PCA_gamma, coeffMat=Sigma, tris = tris, NofExp=dataMat.shape[0], NofFrame=5, NofVerts=int(dataMat.shape[1]/3))\n",
    "PCA_deformationCompos.save_hdf5(path_to_save=path_to_session, fname = pca_hdf5)\n",
    "pca_f = h5py.File(os.path.join(path_to_session, pca_hdf5), 'r')\n",
    "list(pca_f.keys())\n",
    "mbspca_hdf5 = session+\"_\"+target_attrib+\"_\"+\"MBSPCA_dcs.hdf5\"\n",
    "MBSPCA_deformationCompos = DeformationComponents(dataMat=dataMat, faceMask=facemask.bit_mask[None, :], MEAN = average, STD = centX_std, pcMat=MBSPCA_C, coeffMat=MBSPCA_W, tris = tris, NofExp=dataMat.shape[0], NofFrame=5, NofVerts=int(dataMat.shape[1]/3))\n",
    "MBSPCA_deformationCompos.save_hdf5(path_to_save=path_to_session, fname = mbspca_hdf5)\n",
    "mbspca_f = h5py.File(os.path.join(path_to_session, mbspca_hdf5))\n",
    "list(mbspca_f.keys())\n"
   ]
  }
 ],
 "metadata": {
  "kernelspec": {
   "display_name": "3dsrf",
   "language": "python",
   "name": "python3"
  },
  "language_info": {
   "codemirror_mode": {
    "name": "ipython",
    "version": 3
   },
   "file_extension": ".py",
   "mimetype": "text/x-python",
   "name": "python",
   "nbconvert_exporter": "python",
   "pygments_lexer": "ipython3",
   "version": "3.10.13"
  }
 },
 "nbformat": 4,
 "nbformat_minor": 2
}
