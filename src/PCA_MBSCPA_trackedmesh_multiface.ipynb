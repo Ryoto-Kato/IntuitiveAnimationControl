{
 "cells": [
  {
   "cell_type": "code",
   "execution_count": null,
   "metadata": {},
   "outputs": [],
   "source": [
    "import h5py\n",
    "import os\n",
    "import trimesh\n",
    "import numpy as np\n",
    "import h5py\n",
    "from utils.trackedmesh_loader import TrackedMeshLoader\n",
    "from utils.Blendshape import DeformationComponents\n",
    "save_path = \"./samples/\""
   ]
  },
  {
   "cell_type": "code",
   "execution_count": null,
   "metadata": {},
   "outputs": [],
   "source": [
    "from datetime import datetime\n",
    "# get current date and year\n",
    "now = datetime.now()\n",
    "date = now.strftime(\"%d\") + now.strftime(\"%m\") + now.strftime(\"%Y\")\n",
    "print(date)\n",
    "time = now.strftime(\"%H_%M\")\n",
    "print(\"time:\", time)"
   ]
  },
  {
   "cell_type": "markdown",
   "metadata": {},
   "source": [
    "# Deformation components\n",
    "- Apply following methhods on the tracked mashes from multiface dataset\n",
    "1. PCA\n",
    "2. MiniBatch Sparse PCA"
   ]
  },
  {
   "cell_type": "markdown",
   "metadata": {},
   "source": [
    "# Load data matrix"
   ]
  },
  {
   "cell_type": "code",
   "execution_count": null,
   "metadata": {},
   "outputs": [],
   "source": [
    "path_to_dataset = os.path.join(os.getcwd(), '../dataset/multiface/tracked_mesh/')\n",
    "NofFrames = 5\n",
    "tml = TrackedMeshLoader(path_to_dataset=path_to_dataset, ID=6795937, suffix='E0', mesh_loader=\"trimesh\", num_samples_perExp=NofFrames)\n",
    "dataMat, MEAN, cent_X = tml()"
   ]
  },
  {
   "cell_type": "code",
   "execution_count": null,
   "metadata": {},
   "outputs": [],
   "source": [
    "dataMat.shape"
   ]
  },
  {
   "cell_type": "code",
   "execution_count": null,
   "metadata": {},
   "outputs": [],
   "source": [
    "cent_X.shape"
   ]
  },
  {
   "cell_type": "code",
   "execution_count": null,
   "metadata": {},
   "outputs": [],
   "source": [
    "centX_std = np.std(cent_X)"
   ]
  },
  {
   "cell_type": "markdown",
   "metadata": {},
   "source": [
    "# Load Facemask"
   ]
  },
  {
   "cell_type": "code",
   "execution_count": null,
   "metadata": {},
   "outputs": [],
   "source": [
    "from utils.Blendshape import FaceMask\n",
    "from utils.pickel_io import dump_pckl, load_from_memory\n",
    "\n",
    "# set the name of pickel file according to the mesh_loader\n",
    "if tml.mesh_loader == \"trimesh\":\n",
    "    pickel_fname = \"FaceMask_sample_22012024_14_19_trimesh.pkl\"\n",
    "elif tml.mesh_loader == \"original\":\n",
    "    pickel_fname = \"FaceMask_30102023_09_40.pkl\"\n",
    "\n",
    "facemask = load_from_memory(path_to_memory = save_path, pickle_fname = pickel_fname)"
   ]
  },
  {
   "cell_type": "code",
   "execution_count": null,
   "metadata": {},
   "outputs": [],
   "source": [
    "masked_cent_X = cent_X * facemask.bit_mask[None, :]\n",
    "mesh = trimesh.load(os.path.join(save_path, \"sample.obj\"), force='mesh')\n",
    "tris = np.asarray(mesh.faces)"
   ]
  },
  {
   "cell_type": "markdown",
   "metadata": {},
   "source": [
    "dump if you want to save time from the second time"
   ]
  },
  {
   "cell_type": "code",
   "execution_count": null,
   "metadata": {},
   "outputs": [],
   "source": [
    "# # dump the data matrix if you need to dump the matrix to save loading time\n",
    "# from utils.Blendshape import ZeroMeanDefMatrix\n",
    "\n",
    "# deformation_data = ZeroMeanDefMatrix(masked_cent_x = masked_cent_X, mean = tml.ave_neutralmesh_vertices, std = tml.centX_std, tris = tris)\n",
    "# dd_pickel_fname = 'deformation_data_matrix_and_mean'+ '_' +date+'_'+time+'_'+tml.mesh_loader+'.pkl'\n",
    "# dump_pckl(data = deformation_data, save_root= save_path, pickel_fname=dd_pickel_fname)"
   ]
  },
  {
   "cell_type": "markdown",
   "metadata": {},
   "source": [
    "# Set the number of components"
   ]
  },
  {
   "cell_type": "code",
   "execution_count": null,
   "metadata": {},
   "outputs": [],
   "source": [
    "Ncompos = 50\n",
    "preScaleFactor = 1/tml.centX_std\n",
    "N_cent_X = cent_X * preScaleFactor\n",
    "masked_N_cent_X = masked_cent_X * preScaleFactor"
   ]
  },
  {
   "cell_type": "markdown",
   "metadata": {},
   "source": [
    "# 1. PCA"
   ]
  },
  {
   "cell_type": "code",
   "execution_count": null,
   "metadata": {},
   "outputs": [],
   "source": [
    "from sklearn.decomposition import PCA\n",
    "D = masked_cent_X.shape[0]\n",
    "pca = PCA(D)\n",
    "pca.fit(N_cent_X.reshape(N_cent_X.shape[0], -1))"
   ]
  },
  {
   "cell_type": "code",
   "execution_count": null,
   "metadata": {},
   "outputs": [],
   "source": [
    "Gamma = pca.components_.reshape(D, -1, 3) #right-hand side matrix of eigenvalue decomposition\n",
    "Variance = pca.explained_variance_\n",
    "Stds = np.sqrt(Variance)\n",
    "Sigma = np.diag(pca.explained_variance_) #diagonal matrix which has eigenvectors in each diagonal entry\n",
    "MEAN =  tml.ave_neutralmesh_vertices # neutral face mesh (vertex coodinates of neutral face)"
   ]
  },
  {
   "cell_type": "code",
   "execution_count": null,
   "metadata": {},
   "outputs": [],
   "source": [
    "masked_PCA_dc = Gamma * facemask.bit_mask[None, :]"
   ]
  },
  {
   "cell_type": "code",
   "execution_count": null,
   "metadata": {},
   "outputs": [],
   "source": [
    "PCA_gamma = Gamma\n",
    "PCA_variance = Variance"
   ]
  },
  {
   "cell_type": "code",
   "execution_count": null,
   "metadata": {},
   "outputs": [],
   "source": [
    "Gamma.shape"
   ]
  },
  {
   "cell_type": "code",
   "execution_count": null,
   "metadata": {},
   "outputs": [],
   "source": [
    "pca_RMSE = np.sqrt(((masked_N_cent_X.reshape(masked_N_cent_X.shape[0], -1) - np.dot(Sigma, (masked_PCA_dc).reshape(masked_PCA_dc.shape[0], -1)))**2).mean())"
   ]
  },
  {
   "cell_type": "code",
   "execution_count": null,
   "metadata": {},
   "outputs": [],
   "source": [
    "print(pca_RMSE)"
   ]
  },
  {
   "cell_type": "code",
   "execution_count": null,
   "metadata": {},
   "outputs": [],
   "source": [
    "pca_sparsity = np.sum(np.sqrt((masked_PCA_dc[:Ncompos, :]**2).sum(axis = 2)))"
   ]
  },
  {
   "cell_type": "code",
   "execution_count": null,
   "metadata": {},
   "outputs": [],
   "source": [
    "print(pca_sparsity)"
   ]
  },
  {
   "cell_type": "code",
   "execution_count": null,
   "metadata": {},
   "outputs": [],
   "source": [
    "pca_sparsity_level = np.mean(masked_PCA_dc==0)\n",
    "print(pca_sparsity_level)"
   ]
  },
  {
   "cell_type": "markdown",
   "metadata": {},
   "source": [
    "# 2. MiniBatch SparsePCA"
   ]
  },
  {
   "cell_type": "code",
   "execution_count": null,
   "metadata": {},
   "outputs": [],
   "source": [
    "from sklearn.decomposition import MiniBatchSparsePCA\n",
    "mb_sparsePCA = MiniBatchSparsePCA(n_components=Ncompos, verbose=True)\n",
    "est_MBSPCA = mb_sparsePCA.fit(N_cent_X.reshape(N_cent_X.shape[0], -1))"
   ]
  },
  {
   "cell_type": "code",
   "execution_count": null,
   "metadata": {},
   "outputs": [],
   "source": [
    "C_mbspca = est_MBSPCA.components_.reshape(Ncompos, -1, 3) #right hand side V\n",
    "W_mbspca = est_MBSPCA.transform(masked_cent_X.reshape(masked_cent_X.shape[0], -1)) #left hand side U"
   ]
  },
  {
   "cell_type": "code",
   "execution_count": null,
   "metadata": {},
   "outputs": [],
   "source": [
    "masked_MBSPCA_dc = C_mbspca * facemask.bit_mask[None, :]"
   ]
  },
  {
   "cell_type": "code",
   "execution_count": null,
   "metadata": {},
   "outputs": [],
   "source": [
    "MBSPCA_C = C_mbspca\n",
    "MBSPCA_W = W_mbspca"
   ]
  },
  {
   "cell_type": "code",
   "execution_count": null,
   "metadata": {},
   "outputs": [],
   "source": [
    "MBSPCA_C.shape"
   ]
  },
  {
   "cell_type": "code",
   "execution_count": null,
   "metadata": {},
   "outputs": [],
   "source": [
    "mbspca_RMSE = np.sqrt(((masked_N_cent_X.reshape(masked_N_cent_X.shape[0], -1) - np.dot(W_mbspca, (masked_MBSPCA_dc).reshape(masked_MBSPCA_dc.shape[0], -1)))**2).mean())\n"
   ]
  },
  {
   "cell_type": "code",
   "execution_count": null,
   "metadata": {},
   "outputs": [],
   "source": [
    "print(mbspca_RMSE)"
   ]
  },
  {
   "cell_type": "code",
   "execution_count": null,
   "metadata": {},
   "outputs": [],
   "source": [
    "mbspca_sparsity = np.sum(np.sqrt((masked_MBSPCA_dc**2).sum(axis = 2)))"
   ]
  },
  {
   "cell_type": "code",
   "execution_count": null,
   "metadata": {},
   "outputs": [],
   "source": [
    "print(mbspca_sparsity)"
   ]
  },
  {
   "cell_type": "code",
   "execution_count": null,
   "metadata": {},
   "outputs": [],
   "source": [
    "mbspca_sparsity_level = np.mean(masked_MBSPCA_dc==0)\n",
    "print(mbspca_sparsity_level)"
   ]
  },
  {
   "cell_type": "markdown",
   "metadata": {},
   "source": [
    "# save deformation components"
   ]
  },
  {
   "cell_type": "code",
   "execution_count": null,
   "metadata": {},
   "outputs": [],
   "source": [
    "pca_hdf5 = \"tracked_mesh\"+\"_5perExp_\"+tml.mesh_loader+\"PCA_dcs.hdf5\"\n",
    "PCA_deformationCompos = DeformationComponents(dataMat=dataMat, faceMask=facemask.bit_mask[None, :], MEAN = MEAN, STD = centX_std, pcMat=PCA_gamma, coeffMat=Sigma, tris = tris, NofExp=dataMat.shape[0], NofFrame=5, NofVerts=int(dataMat.shape[1]))\n",
    "PCA_deformationCompos.save_hdf5(path_to_save=path_to_dataset, fname = pca_hdf5)\n",
    "pca_f = h5py.File(os.path.join(path_to_dataset, pca_hdf5), 'r')\n",
    "list(pca_f.keys())\n",
    "mbspca_hdf5 = \"tracked_mesh\"+\"_5perExp_\"+tml.mesh_loader+\"MBSPCA_dcs.hdf5\"\n",
    "MBSPCA_deformationCompos = DeformationComponents(dataMat=dataMat, faceMask=facemask.bit_mask[None, :], MEAN = MEAN, STD=centX_std, pcMat=MBSPCA_C, coeffMat=MBSPCA_W, tris = tris, NofExp=dataMat.shape[0], NofFrame=5, NofVerts=int(dataMat.shape[1]))\n",
    "MBSPCA_deformationCompos.save_hdf5(path_to_save=path_to_dataset, fname = mbspca_hdf5)\n",
    "mbspca_f = h5py.File(os.path.join(path_to_dataset, mbspca_hdf5), 'r')\n",
    "list(mbspca_f.keys())"
   ]
  }
 ],
 "metadata": {
  "kernelspec": {
   "display_name": "3dsrf",
   "language": "python",
   "name": "python3"
  },
  "language_info": {
   "codemirror_mode": {
    "name": "ipython",
    "version": 3
   },
   "file_extension": ".py",
   "mimetype": "text/x-python",
   "name": "python",
   "nbconvert_exporter": "python",
   "pygments_lexer": "ipython3",
   "version": "3.7.13"
  }
 },
 "nbformat": 4,
 "nbformat_minor": 2
}
