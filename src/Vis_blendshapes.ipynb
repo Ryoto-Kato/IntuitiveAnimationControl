{
 "cells": [
  {
   "cell_type": "code",
   "execution_count": null,
   "metadata": {},
   "outputs": [],
   "source": [
    "from datetime import datetime\n",
    "# get current date and year\n",
    "now = datetime.now()\n",
    "\n",
    "date = now.strftime(\"%d\") + now.strftime(\"%m\") + now.strftime(\"%Y\")\n",
    "print(date)"
   ]
  },
  {
   "cell_type": "markdown",
   "metadata": {},
   "source": [
    "name of experiment"
   ]
  },
  {
   "cell_type": "code",
   "execution_count": null,
   "metadata": {},
   "outputs": [],
   "source": [
    "exp_name = \"exp\"+date"
   ]
  },
  {
   "cell_type": "markdown",
   "metadata": {},
   "source": [
    "# Interactive visualization of blendshapes\n",
    "- Final goal\n",
    "    - visualization with UIs on jupyter notebook"
   ]
  },
  {
   "cell_type": "markdown",
   "metadata": {},
   "source": [
    "installation of pyvista\n",
    "\n",
    "`conda install -c conda-forge pyvista`\n",
    "\n",
    "`pip install pyvista`\n"
   ]
  },
  {
   "cell_type": "code",
   "execution_count": null,
   "metadata": {},
   "outputs": [],
   "source": [
    "import os\n",
    "import pyvista as pv\n",
    "import vtk\n",
    "import numpy as np\n",
    "# plot with pyvista interactively within a jupyter notebook (using trame in backend)\n",
    "pv.set_jupyter_backend('trame')\n",
    "\n",
    "# pv.set_jupyter_backend('static')\n",
    "\n",
    "from utils.pickel_io import load_from_memory"
   ]
  },
  {
   "cell_type": "markdown",
   "metadata": {},
   "source": [
    "load blendshape from memory"
   ]
  },
  {
   "cell_type": "code",
   "execution_count": null,
   "metadata": {},
   "outputs": [],
   "source": [
    "# save path and pickel file \n",
    "save_path = \"/home/<your_name>/Documents/TUM/WS23-24/3DSRF/project/3DSSL-WS23_IntuitiveAnimation/dataset/multiface/tracked_mesh\"\n",
    "sample_path = \"/home/<your_name>/Documents/TUM/WS23-24/3DSRF/project/3DSSL-WS23_IntuitiveAnimation/dataset/multiface/tracked_mesh/sample.obj\"\n",
    "pickel_fname = \"blendshape_26102023_17_21.pkl\"\n",
    "\n",
    "datastruct_blendshape = load_from_memory(path_to_memory=save_path, pickle_fname=pickel_fname)"
   ]
  },
  {
   "cell_type": "markdown",
   "metadata": {},
   "source": [
    "write an obj mesh with loaded average expression"
   ]
  },
  {
   "cell_type": "code",
   "execution_count": null,
   "metadata": {},
   "outputs": [],
   "source": [
    "datastruct_blendshape.MEAN"
   ]
  },
  {
   "cell_type": "code",
   "execution_count": null,
   "metadata": {},
   "outputs": [],
   "source": [
    "print(f\"#Pcs: {datastruct_blendshape.PCs.shape[0]}\")"
   ]
  },
  {
   "cell_type": "code",
   "execution_count": null,
   "metadata": {},
   "outputs": [],
   "source": [
    "from utils.Blendshape import Blendshape\n",
    "from utils.OBJ_helper import OBJ\n",
    "\n",
    "exp_folder_path = os.path.join(save_path, exp_name)\n",
    "if not os.path.exists(exp_folder_path):\n",
    "    os.mkdir(exp_folder_path)\n",
    "\n",
    "#ave_fname = OBJ.write_OBJfile(reference_obj_file= sample_path, save_path = exp_folder_path, vertices=datastruct_blendshape.MEAN, name_Exp=\"averageExp\")\n",
    "\n",
    "_MEAN = datastruct_blendshape.MEAN\n",
    "_PCs = datastruct_blendshape.PCs\n",
    "_Stds = datastruct_blendshape.Stds\n",
    "_save_path = exp_folder_path\n",
    "_D = 54\n",
    "_only_specific_pc = False\n",
    "_name_newExp = \"\"\n",
    "\n",
    "blendshape = Blendshape(_MEAN, _PCs, _Stds, _D, _save_path, _only_specific_pc, _name_newExp)\n",
    "ave_fname = blendshape.generate_aveExp()\n",
    "\n",
    "print(ave_fname)"
   ]
  },
  {
   "cell_type": "code",
   "execution_count": null,
   "metadata": {},
   "outputs": [],
   "source": [
    "print(_D)"
   ]
  },
  {
   "cell_type": "markdown",
   "metadata": {},
   "source": [
    "# visualize blendshape with pyvista with slider"
   ]
  },
  {
   "cell_type": "code",
   "execution_count": null,
   "metadata": {},
   "outputs": [],
   "source": [
    "from utils.Routine_pyvista import Routine_blendshape"
   ]
  },
  {
   "cell_type": "markdown",
   "metadata": {},
   "source": [
    "Use routine to visualize blendshape with interactive UIs"
   ]
  },
  {
   "cell_type": "code",
   "execution_count": null,
   "metadata": {},
   "outputs": [],
   "source": [
    "engine = Routine_blendshape(blendshape)"
   ]
  },
  {
   "cell_type": "code",
   "execution_count": null,
   "metadata": {},
   "outputs": [],
   "source": [
    "# declare pyvista plotter\n",
    "p = pv.Plotter()"
   ]
  },
  {
   "cell_type": "markdown",
   "metadata": {},
   "source": [
    "camera position\n",
    "- visualize camera position in real-time\n"
   ]
  },
  {
   "cell_type": "code",
   "execution_count": null,
   "metadata": {},
   "outputs": [],
   "source": [
    "# def my_cpos_callback(*args):\n",
    "#     print(p.camera_position)\n",
    "#     return\n",
    "\n",
    "# p.iren.add_observer(vtk.vtkCommand.EndInteractionEvent, my_cpos_callback)"
   ]
  },
  {
   "cell_type": "markdown",
   "metadata": {},
   "source": [
    "- set camera position (only rotation, not translation)"
   ]
  },
  {
   "cell_type": "code",
   "execution_count": null,
   "metadata": {},
   "outputs": [],
   "source": [
    "# # locate mesh in the half at left-hand side\n",
    "# p.camera_position = [(314.3020430204854, -125.38483794016574, 201.88260309568244),\n",
    "#  (274.7262042562292, 15.093911136183362, 1083.9664926479888),\n",
    "#  (-0.016268918246715107, -0.9875371323682891, 0.15654307551884303)]\n",
    "\n",
    "# locate mesh at the middle\n",
    "p.camera_position = [(46.587771748532454, -110.97787747048358, 187.63653999519397),\n",
    " (-1.23187255859375, 29.05982208251953, 1069.2713623046875),\n",
    " (0.003916643970848481, -0.987577042560248, 0.15708674325976588)]"
   ]
  },
  {
   "cell_type": "markdown",
   "metadata": {},
   "source": [
    "Visualization of blendshape with interactive UIs (currently only top 3 principle components)"
   ]
  },
  {
   "cell_type": "code",
   "execution_count": null,
   "metadata": {},
   "outputs": [],
   "source": [
    "step_size = (0.9)/10\n",
    "print(step_size)\n",
    "\n",
    "step_y = np.flip(np.arange(0.05, 0.95, step_size, dtype = float))\n",
    "print(step_y)\n",
    "print(len(step_y))\n"
   ]
  },
  {
   "cell_type": "code",
   "execution_count": null,
   "metadata": {},
   "outputs": [],
   "source": [
    "print(len(step_y))"
   ]
  },
  {
   "cell_type": "code",
   "execution_count": null,
   "metadata": {},
   "outputs": [],
   "source": [
    "p.enable_parallel_projection()\n",
    "# sargs = dict(interactive=True) \n",
    "sargs = dict(height=0.25, vertical=True, position_x=0.05, position_y=0.05)\n",
    "p.add_mesh(engine.starting_mesh, scalars=\"distances\", show_edges=False, smooth_shading=True, scalar_bar_args=sargs)"
   ]
  },
  {
   "cell_type": "code",
   "execution_count": null,
   "metadata": {},
   "outputs": [],
   "source": [
    "DEBUG = False\n",
    "p.add_slider_widget(\n",
    "    callback=lambda value: engine(str(0), value, DEBUG),\n",
    "    rng=[-1*blendshape.Stds[0], 1*blendshape.Stds[0]],\n",
    "    value=0.0,\n",
    "    title=\"blendshape\"+str(0),\n",
    "    pointa=(0.8, step_y[0]),\n",
    "    pointb=(0.95, step_y[0]),\n",
    "    style='modern',\n",
    "    slider_width = 0.02,\n",
    "    tube_width = 0.01,\n",
    "    title_height = 0.02,\n",
    ")\n",
    "\n",
    "p.add_slider_widget(\n",
    "    callback=lambda value: engine(str(1), value, DEBUG),\n",
    "    rng=[-1*blendshape.Stds[1], 1*blendshape.Stds[1]],\n",
    "    value=0.0,\n",
    "    title=\"blendshape\"+str(1),\n",
    "    pointa=(0.8, step_y[1]),\n",
    "    pointb=(0.95, step_y[1]),\n",
    "    style='modern',\n",
    "    slider_width = 0.02,\n",
    "    tube_width = 0.01,\n",
    "    title_height = 0.02,\n",
    ")\n",
    "\n",
    "p.add_slider_widget(\n",
    "    callback=lambda value: engine(str(2), value, DEBUG),\n",
    "    rng=[-1*blendshape.Stds[2], 1*blendshape.Stds[2]],\n",
    "    value=0.0,\n",
    "    title=\"blendshape\"+str(2),\n",
    "    pointa=(0.8, step_y[2]),\n",
    "    pointb=(0.95, step_y[2]),\n",
    "    style='modern',\n",
    "    slider_width = 0.02,\n",
    "    tube_width = 0.01,\n",
    "    title_height = 0.02,\n",
    ")\n",
    "\n",
    "p.add_slider_widget(\n",
    "    callback=lambda value: engine(str(3), value, DEBUG),\n",
    "    rng=[-1*blendshape.Stds[3], 1*blendshape.Stds[3]],\n",
    "    value=0.0,\n",
    "    title=\"blendshape\"+str(3),\n",
    "    pointa=(0.8, step_y[3]),\n",
    "    pointb=(0.95, step_y[3]),\n",
    "    style='modern',\n",
    "    slider_width = 0.02,\n",
    "    tube_width = 0.01,\n",
    "    title_height = 0.02,\n",
    ")\n",
    "\n",
    "p.add_slider_widget(\n",
    "    callback=lambda value: engine(str(4), value, DEBUG),\n",
    "    rng=[-1*blendshape.Stds[4], 1*blendshape.Stds[4]],\n",
    "    value=0.0,\n",
    "    title=\"blendshape\"+str(4),\n",
    "    pointa=(0.8, step_y[4]),\n",
    "    pointb=(0.95, step_y[4]),\n",
    "    style='modern',\n",
    "    slider_width = 0.02,\n",
    "    tube_width = 0.01,\n",
    "    title_height = 0.02,\n",
    ")\n",
    "\n",
    "p.add_slider_widget(\n",
    "    callback=lambda value: engine(str(5), value, DEBUG),\n",
    "    rng=[-1*blendshape.Stds[5], 1*blendshape.Stds[5]],\n",
    "    value=0.0,\n",
    "    title=\"blendshape\"+str(5),\n",
    "    pointa=(0.8, step_y[5]),\n",
    "    pointb=(0.95, step_y[5]),\n",
    "    style='modern',\n",
    "    slider_width = 0.02,\n",
    "    tube_width = 0.01,\n",
    "    title_height = 0.02,\n",
    ")\n",
    "\n",
    "p.add_slider_widget(\n",
    "    callback=lambda value: engine(str(6), value, DEBUG),\n",
    "    rng=[-1*blendshape.Stds[6], 1*blendshape.Stds[6]],\n",
    "    value=0.0,\n",
    "    title=\"blendshape\"+str(6),\n",
    "    pointa=(0.8, step_y[6]),\n",
    "    pointb=(0.95, step_y[6]),\n",
    "    style='modern',\n",
    "    slider_width = 0.02,\n",
    "    tube_width = 0.01,\n",
    "    title_height = 0.02,\n",
    ")\n",
    "\n",
    "p.add_slider_widget(\n",
    "    callback=lambda value: engine(str(7), value, DEBUG),\n",
    "    rng=[-1*blendshape.Stds[7], 1*blendshape.Stds[7]],\n",
    "    value=0.0,\n",
    "    title=\"blendshape\"+str(7),\n",
    "    pointa=(0.8, step_y[7]),\n",
    "    pointb=(0.95, step_y[7]),\n",
    "    style='modern',\n",
    "    slider_width = 0.02,\n",
    "    tube_width = 0.01,\n",
    "    title_height = 0.02,\n",
    ")\n",
    "\n",
    "p.add_slider_widget(\n",
    "    callback=lambda value: engine(str(8), value, DEBUG),\n",
    "    rng=[-1*blendshape.Stds[8], 1*blendshape.Stds[8]],\n",
    "    value=0.0,\n",
    "    title=\"blendshape\"+str(8),\n",
    "    pointa=(0.8, step_y[8]),\n",
    "    pointb=(0.95, step_y[8]),\n",
    "    style='modern',\n",
    "    slider_width = 0.02,\n",
    "    tube_width = 0.01,\n",
    "    title_height = 0.02,\n",
    ")\n",
    "\n",
    "p.add_slider_widget(\n",
    "    callback=lambda value: engine(str(9), value, DEBUG),\n",
    "    rng=[-1*blendshape.Stds[9], 1*blendshape.Stds[9]],\n",
    "    value=0.0,\n",
    "    title=\"blendshape\"+str(9),\n",
    "    pointa=(0.8, step_y[9]),\n",
    "    pointb=(0.95, step_y[9]),\n",
    "    style='modern',\n",
    "    slider_width = 0.02,\n",
    "    tube_width = 0.01,\n",
    "    title_height = 0.02,\n",
    ")\n",
    "p.show()"
   ]
  }
 ],
 "metadata": {
  "kernelspec": {
   "display_name": "3dsrf",
   "language": "python",
   "name": "python3"
  },
  "language_info": {
   "codemirror_mode": {
    "name": "ipython",
    "version": 3
   },
   "file_extension": ".py",
   "mimetype": "text/x-python",
   "name": "python",
   "nbconvert_exporter": "python",
   "pygments_lexer": "ipython3",
   "version": "3.10.13"
  }
 },
 "nbformat": 4,
 "nbformat_minor": 2
}
